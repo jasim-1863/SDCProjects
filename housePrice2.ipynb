{
  "nbformat": 4,
  "nbformat_minor": 0,
  "metadata": {
    "colab": {
      "provenance": [],
      "authorship_tag": "ABX9TyOOpTR4czPvRmNgJoK7dlc4"
    },
    "kernelspec": {
      "name": "python3",
      "display_name": "Python 3"
    },
    "language_info": {
      "name": "python"
    }
  },
  "cells": [
    {
      "cell_type": "code",
      "execution_count": 3,
      "metadata": {
        "colab": {
          "base_uri": "https://localhost:8080/",
          "height": 902
        },
        "id": "JZ0dwAaCKXSc",
        "outputId": "5b4391a7-232d-4935-ff36-ae7b1c800151"
      },
      "outputs": [
        {
          "output_type": "stream",
          "name": "stdout",
          "text": [
            "=== Logistic Regression for Price Classification ===\n",
            "Accuracy: 0.87\n",
            "\n",
            "Classification Report:\n",
            "              precision    recall  f1-score   support\n",
            "\n",
            "           0       0.85      0.87      0.86        94\n",
            "           1       0.88      0.87      0.88       106\n",
            "\n",
            "    accuracy                           0.87       200\n",
            "   macro avg       0.87      0.87      0.87       200\n",
            "weighted avg       0.87      0.87      0.87       200\n",
            "\n",
            "Coefficients: [[ 2.25395082  0.83468966 -1.37990178]]\n",
            "Intercept: [0.02710445]\n"
          ]
        },
        {
          "output_type": "display_data",
          "data": {
            "text/plain": [
              "<Figure size 800x600 with 1 Axes>"
            ],
            "image/png": "[encoded data removed]"
          },
          "metadata": {}
        },
        {
          "output_type": "stream",
          "name": "stdout",
          "text": [
            "\n",
            "Confusion matrix plot displayed above and saved as 'logistic_regression_confusion_matrix.png'\n"
          ]
        }
      ],
      "source": [
        "# Import libraries\n",
        "import numpy as np\n",
        "import pandas as pd\n",
        "import matplotlib.pyplot as plt\n",
        "from sklearn.model_selection import train_test_split\n",
        "from sklearn.linear_model import LogisticRegression\n",
        "from sklearn.metrics import accuracy_score, classification_report, confusion_matrix\n",
        "import seaborn as sns\n",
        "from sklearn.preprocessing import StandardScaler\n",
        "\n",
        "# Set random seed for reproducibility\n",
        "np.random.seed(42)\n",
        "\n",
        "# Generate synthetic housing data\n",
        "n_samples = 1000\n",
        "size = np.random.normal(2000, 500, n_samples)  # House size in sq ft\n",
        "bedrooms = np.random.randint(1, 6, n_samples)  # Number of bedrooms\n",
        "age = np.random.normal(20, 10, n_samples)     # Age of house in years\n",
        "price = 100000 + 150 * size + 20000 * bedrooms - 5000 * age + np.random.normal(0, 50000, n_samples)\n",
        "\n",
        "# Create DataFrame\n",
        "data = pd.DataFrame({\n",
        "    'size': size,\n",
        "    'bedrooms': bedrooms,\n",
        "    'age': age,\n",
        "    'price': price\n",
        "})\n",
        "\n",
        "# Logistic Regression Model (for binary classification: high vs low price)\n",
        "print(\"=== Logistic Regression for Price Classification ===\")\n",
        "\n",
        "# Create binary target (1 for high price, 0 for low price)\n",
        "median_price = data['price'].median()\n",
        "y_binary = (data['price'] > median_price).astype(int)\n",
        "\n",
        "# Features\n",
        "X = data[['size', 'bedrooms', 'age']]\n",
        "\n",
        "# Split data\n",
        "X_train, X_test, y_train, y_test = train_test_split(X, y_binary, test_size=0.2, random_state=42)\n",
        "\n",
        "# Scale features\n",
        "scaler = StandardScaler()\n",
        "X_train_scaled = scaler.fit_transform(X_train)\n",
        "X_test_scaled = scaler.transform(X_test)\n",
        "\n",
        "# Train model\n",
        "log_reg = LogisticRegression(random_state=42)\n",
        "log_reg.fit(X_train_scaled, y_train)\n",
        "\n",
        "# Predict and evaluate\n",
        "y_pred = log_reg.predict(X_test_scaled)\n",
        "accuracy = accuracy_score(y_test, y_pred)\n",
        "\n",
        "print(f\"Accuracy: {accuracy:.2f}\")\n",
        "print(\"\\nClassification Report:\")\n",
        "print(classification_report(y_test, y_pred))\n",
        "print(\"Coefficients:\", log_reg.coef_)\n",
        "print(\"Intercept:\", log_reg.intercept_)\n",
        "\n",
        "# Plot confusion matrix\n",
        "cm = confusion_matrix(y_test, y_pred)\n",
        "plt.figure(figsize=(8, 6))\n",
        "sns.heatmap(cm, annot=True, fmt='d', cmap='Blues', cbar=False)\n",
        "plt.xlabel('Predicted')\n",
        "plt.ylabel('Actual')\n",
        "plt.title('Confusion Matrix: High vs Low Price Classification')\n",
        "plt.tight_layout()\n",
        "plt.savefig('logistic_regression_confusion_matrix.png')\n",
        "plt.show()  # Display plot inline in Colab\n",
        "plt.close()\n",
        "\n",
        "print(\"\\nConfusion matrix plot displayed above and saved as 'logistic_regression_confusion_matrix.png'\")"
      ]
    }
  ]
}